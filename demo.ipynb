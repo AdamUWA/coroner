{
 "cells": [
  {
   "cell_type": "code",
   "execution_count": 13,
   "id": "6d06adc1-89cf-4bd0-b06a-4bc34b11e90f",
   "metadata": {},
   "outputs": [],
   "source": [
    "\n",
    "import os\n",
    "import pandas as pd\n",
    "from pathlib import Path\n",
    "from bert_score import score\n",
    "\n",
    "import warnings\n",
    "warnings.filterwarnings(\"ignore\", category=UserWarning)\n",
    "\n",
    "from langchain_core.prompts import ChatPromptTemplate\n",
    "from langchain_core.vectorstores import InMemoryVectorStore\n",
    "\n",
    "from qanda import QandA"
   ]
  },
  {
   "cell_type": "code",
   "execution_count": 16,
   "id": "a2a4b5e6-ec32-4475-a850-af4dcc46689b",
   "metadata": {},
   "outputs": [],
   "source": [
    "FILE_PATH = Path(\"jsondata/Rodier-Finding.jsonl\")\n",
    "GEN_MODEL = \"gemma3\"  # Can swap to \"llama3.2\" or \"phi4-mini\"\n",
    "EMBED_MODEL = \"mxbai-embed-large\"\n",
    "VDB = InMemoryVectorStore\n",
    "TOP_K = 3\n",
    "\n",
    "PROMPT = ChatPromptTemplate.from_template(\n",
    "    \"\"\"Context information is below.\n",
    "    \\n---------------------\\n\n",
    "    {context}\n",
    "    \\n---------------------\\n\n",
    "    Given the context information and not prior knowledge, answer the query.\\n\n",
    "    Query: {input}\\n\n",
    "    Answer:\\n\"\"\",\n",
    ")"
   ]
  },
  {
   "cell_type": "code",
   "execution_count": 18,
   "id": "7710b8f8-3e88-4229-b0ea-fe5064a6baa6",
   "metadata": {},
   "outputs": [
    {
     "name": "stdout",
     "output_type": "stream",
     "text": [
      "Initializing, please wait...\n",
      "Loading jsondata\\Rodier-Finding.jsonl\n",
      "Question Answer chain ready.\n"
     ]
    }
   ],
   "source": [
    "qanda = QandA(gen_model=GEN_MODEL,\n",
    "              embed_model=EMBED_MODEL, \n",
    "              vdb=VDB,\n",
    "              file_path=FILE_PATH,\n",
    "              top_k=TOP_K,\n",
    "              prompt=PROMPT)"
   ]
  },
  {
   "cell_type": "code",
   "execution_count": 20,
   "id": "d584ba7d-bd64-44bd-84c3-684e4964e502",
   "metadata": {},
   "outputs": [
    {
     "name": "stdout",
     "output_type": "stream",
     "text": [
      "Question 1: Who is the coroner?\n",
      "Answer: Sarah Helen Linton, Deputy State Coroner.\n",
      "\n",
      "Question 2: Who is the deceased?\n",
      "Answer: Frank Edward Rodier is the deceased.\n",
      "\n",
      "Question 3: What was the cause of death?\n",
      "Answer: The cause of death remains unascertained. The report states, “his cause of death must remain unascertained.” It does, however, acknowledge the possibility that injuries sustained from the rocks contributed to his death.\n",
      "\n"
     ]
    }
   ],
   "source": [
    "QUESTIONS = [\n",
    "    \"Who is the coroner?\", \n",
    "    \"Who is the deceased?\", \n",
    "    \"What was the cause of death?\"\n",
    "]\n",
    "\n",
    "for i, question in enumerate(QUESTIONS, 1):\n",
    "    answer = qanda.ask(question)\n",
    "    print(f\"Question {i}: {question}\")\n",
    "    print(f\"Answer: {answer}\\n\")"
   ]
  },
  {
   "cell_type": "code",
   "execution_count": 21,
   "id": "90346aed-3080-4e05-a3b9-e5854e6bb146",
   "metadata": {},
   "outputs": [
    {
     "name": "stdout",
     "output_type": "stream",
     "text": [
      "Question 1: Who is the coroner?\n",
      "Answer: Sarah Helen Linton, Deputy State Coroner.\n",
      "\n",
      "Sources:\n",
      "  Source 1:\n",
      "    Text: Counsel Appearing:\n",
      "Senior Constable C Robertson assisted the Coroner .\n",
      "Case(s) referred to in decision(s):\n",
      "Nil...\n",
      "    Page: 1\n",
      "    Document: data/Rodier-Finding.pdf\n",
      "\n",
      "  Source 2:\n",
      "    Text: [2024] WACOR 35\n",
      "Coroners Act 1996 (Section 26(1))...\n",
      "    Page: 2\n",
      "    Document: data/Rodier-Finding.pdf\n",
      "\n",
      "  Source 3:\n",
      "    Text: [2024] WACOR 35\n",
      "JURISDICTION\n",
      "CORONER'S COURT OF WESTERN AUSTRALIA\n",
      "ACT\n",
      "CORONERS ACT 1996\n",
      "CORONER\n",
      "SARAH HELEN LINTON, DEPUTY STATE CORONER\n",
      "HEARD\n",
      "14 AUGUST 2024\n",
      "DELIVERED\n",
      "14 AUGUST 2024\n",
      "FILE NO/S\n",
      "CORC 32...\n",
      "    Page: 1\n",
      "    Document: data/Rodier-Finding.pdf\n",
      "\n",
      "--------------------------------------------------\n",
      "Question 2: Who is the deceased?\n",
      "Answer: Frank Edward Rodier\n",
      "\n",
      "Sources:\n",
      "  Source 1:\n",
      "    Text: IS DEATH ESTABLISHED?\n",
      "17. As is clear from the above; I am satisfied beyond reasonable doubt that Frank Rodier is deceased and that he died on 25 1975 in the sea after he was washed off the rocks whil...\n",
      "    Page: 6\n",
      "    Document: data/Rodier-Finding.pdf\n",
      "\n",
      "  Source 2:\n",
      "    Text: INTRODUCTION\n",
      "- 2 In my capacity as the Acting State Coroner, I determined on the basis of information provided by the WA Police in August 2023 that   there was   reasonable cause to suspect that Frank...\n",
      "    Page: 3\n",
      "    Document: data/Rodier-Finding.pdf\n",
      "\n",
      "  Source 3:\n",
      "    Text: RECORD OF INVESTIGATION INTO DEATH\n",
      "I, Sarah Helen Linton; Deputy State Coroner , having investigated the death of Frank Edward RODIER with an inquest  held at Perth Coroners Court; Central Law Courts,...\n",
      "    Page: 2\n",
      "    Document: data/Rodier-Finding.pdf\n",
      "\n",
      "--------------------------------------------------\n",
      "Question 3: What was the cause of death?\n",
      "Answer: The cause of death remains unascertained. The report states: “Accordingly, his cause of death must remain unascertained.”\n",
      "\n",
      "Sources:\n",
      "  Source 1:\n",
      "    Text: IS DEATH ESTABLISHED?\n",
      "17. As is clear from the above; I am satisfied beyond reasonable doubt that Frank Rodier is deceased and that he died on 25 1975 in the sea after he was washed off the rocks whil...\n",
      "    Page: 6\n",
      "    Document: data/Rodier-Finding.pdf\n",
      "\n",
      "  Source 2:\n",
      "    Text: INTRODUCTION\n",
      "- 2 In my capacity as the Acting State Coroner, I determined on the basis of information provided by the WA Police in August 2023 that   there was   reasonable cause to suspect that Frank...\n",
      "    Page: 3\n",
      "    Document: data/Rodier-Finding.pdf\n",
      "\n",
      "  Source 3:\n",
      "    Text: [2024] WACOR 35\n",
      "impediment; associated with events at the time of his birth. He had no known medical conditions that would have shortened his life span: 3...\n",
      "    Page: 4\n",
      "    Document: data/Rodier-Finding.pdf\n",
      "\n",
      "--------------------------------------------------\n"
     ]
    }
   ],
   "source": [
    "verbose_answers = []\n",
    "sources_list = []\n",
    "\n",
    "for i, question in enumerate(QUESTIONS, 1):\n",
    "    answer, sources = qanda.ask(question, verbose=True)\n",
    "    verbose_answers.append(answer)\n",
    "    sources_list.append(sources)\n",
    "    \n",
    "    print(f\"Question {i}: {question}\")\n",
    "    print(f\"Answer: {answer}\\n\")\n",
    "    print(\"Sources:\")\n",
    "    for src in sources:\n",
    "        print(f\"  Source {src['source']}:\")\n",
    "        print(f\"    Text: {src['text'][:200]}...\")  # Truncate for readability\n",
    "        print(f\"    Page: {src['page']}\")\n",
    "        print(f\"    Document: {src['document']}\\n\")\n",
    "    print(\"-\" * 50)"
   ]
  },
  {
   "cell_type": "code",
   "execution_count": 22,
   "id": "cd8ccef1-0689-4c01-a0c4-f61bd2a747bc",
   "metadata": {},
   "outputs": [],
   "source": [
    "def calculate_bertscore_df(df):\n",
    "    \"\"\"\n",
    "    Computes BERTScore metrics for a DataFrame with 'CORRECT_ANSWER' and 'LLM_ANSWER' columns.\n",
    "    \n",
    "    Args:\n",
    "        df (pd.DataFrame): Input DataFrame.\n",
    "    \n",
    "    Returns:\n",
    "        pd.DataFrame: Augmented with BERT_PRECISION, BERT_RECALL, BERT_F1 columns.\n",
    "    \"\"\"\n",
    "    references = df['CORRECT_ANSWER'].tolist()\n",
    "    candidates = df['LLM_ANSWER'].tolist()\n",
    "    \n",
    "    precision, recall, f1 = score(candidates, references, lang=\"en\", verbose=True)\n",
    "    \n",
    "    df['BERT_PRECISION'] = precision.tolist()\n",
    "    df['BERT_RECALL'] = recall.tolist()\n",
    "    df['BERT_F1'] = f1.tolist()\n",
    "    \n",
    "    return df"
   ]
  },
  {
   "cell_type": "code",
   "execution_count": 23,
   "id": "c01de5e5-9fd1-4ba8-807b-5362bee6a246",
   "metadata": {},
   "outputs": [
    {
     "name": "stderr",
     "output_type": "stream",
     "text": [
      "Some weights of RobertaModel were not initialized from the model checkpoint at roberta-large and are newly initialized: ['pooler.dense.bias', 'pooler.dense.weight']\n",
      "You should probably TRAIN this model on a down-stream task to be able to use it for predictions and inference.\n"
     ]
    },
    {
     "name": "stdout",
     "output_type": "stream",
     "text": [
      "calculating scores...\n",
      "computing bert embedding.\n"
     ]
    },
    {
     "data": {
      "application/vnd.jupyter.widget-view+json": {
       "model_id": "a133129c713b433a8b4590fc27c6010e",
       "version_major": 2,
       "version_minor": 0
      },
      "text/plain": [
       "  0%|          | 0/1 [00:00<?, ?it/s]"
      ]
     },
     "metadata": {},
     "output_type": "display_data"
    },
    {
     "name": "stdout",
     "output_type": "stream",
     "text": [
      "computing greedy matching.\n"
     ]
    },
    {
     "data": {
      "application/vnd.jupyter.widget-view+json": {
       "model_id": "8d1c0a41a4c94010b55e1ef7415a4703",
       "version_major": 2,
       "version_minor": 0
      },
      "text/plain": [
       "  0%|          | 0/1 [00:00<?, ?it/s]"
      ]
     },
     "metadata": {},
     "output_type": "display_data"
    },
    {
     "name": "stdout",
     "output_type": "stream",
     "text": [
      "done in 1.11 seconds, 2.71 sentences/sec\n",
      "Evaluation Results:\n"
     ]
    },
    {
     "data": {
      "text/html": [
       "<div>\n",
       "<style scoped>\n",
       "    .dataframe tbody tr th:only-of-type {\n",
       "        vertical-align: middle;\n",
       "    }\n",
       "\n",
       "    .dataframe tbody tr th {\n",
       "        vertical-align: top;\n",
       "    }\n",
       "\n",
       "    .dataframe thead th {\n",
       "        text-align: right;\n",
       "    }\n",
       "</style>\n",
       "<table border=\"1\" class=\"dataframe\">\n",
       "  <thead>\n",
       "    <tr style=\"text-align: right;\">\n",
       "      <th></th>\n",
       "      <th>FILENAME</th>\n",
       "      <th>MODEL</th>\n",
       "      <th>QUESTION</th>\n",
       "      <th>CORRECT_ANSWER</th>\n",
       "      <th>LLM_ANSWER</th>\n",
       "      <th>BERT_PRECISION</th>\n",
       "      <th>BERT_RECALL</th>\n",
       "      <th>BERT_F1</th>\n",
       "    </tr>\n",
       "  </thead>\n",
       "  <tbody>\n",
       "    <tr>\n",
       "      <th>0</th>\n",
       "      <td>Rodier-Finding</td>\n",
       "      <td>gemma3</td>\n",
       "      <td>Who is the coroner?</td>\n",
       "      <td>Sarah Helen Linton</td>\n",
       "      <td>Sarah Helen Linton</td>\n",
       "      <td>1.00000</td>\n",
       "      <td>1.000000</td>\n",
       "      <td>1.000000</td>\n",
       "    </tr>\n",
       "    <tr>\n",
       "      <th>1</th>\n",
       "      <td>Rodier-Finding</td>\n",
       "      <td>gemma3</td>\n",
       "      <td>Who is the deceased?</td>\n",
       "      <td>Frank Edward Rodier</td>\n",
       "      <td>Frank Edward Rodier</td>\n",
       "      <td>1.00000</td>\n",
       "      <td>1.000000</td>\n",
       "      <td>1.000000</td>\n",
       "    </tr>\n",
       "    <tr>\n",
       "      <th>2</th>\n",
       "      <td>Rodier-Finding</td>\n",
       "      <td>gemma3</td>\n",
       "      <td>What was the cause of death?</td>\n",
       "      <td>unascertained</td>\n",
       "      <td>The cause of death was unascertained.</td>\n",
       "      <td>0.84594</td>\n",
       "      <td>0.869418</td>\n",
       "      <td>0.857518</td>\n",
       "    </tr>\n",
       "  </tbody>\n",
       "</table>\n",
       "</div>"
      ],
      "text/plain": [
       "         FILENAME   MODEL                      QUESTION       CORRECT_ANSWER  \\\n",
       "0  Rodier-Finding  gemma3           Who is the coroner?   Sarah Helen Linton   \n",
       "1  Rodier-Finding  gemma3          Who is the deceased?  Frank Edward Rodier   \n",
       "2  Rodier-Finding  gemma3  What was the cause of death?        unascertained   \n",
       "\n",
       "                              LLM_ANSWER  BERT_PRECISION  BERT_RECALL  \\\n",
       "0                     Sarah Helen Linton         1.00000     1.000000   \n",
       "1                    Frank Edward Rodier         1.00000     1.000000   \n",
       "2  The cause of death was unascertained.         0.84594     0.869418   \n",
       "\n",
       "    BERT_F1  \n",
       "0  1.000000  \n",
       "1  1.000000  \n",
       "2  0.857518  "
      ]
     },
     "metadata": {},
     "output_type": "display_data"
    },
    {
     "name": "stdout",
     "output_type": "stream",
     "text": [
      "\n",
      "Results saved to 'evaluation_results.csv'\n"
     ]
    }
   ],
   "source": [
    "import pandas as pd\n",
    "from bert_score import score\n",
    "import warnings\n",
    "warnings.filterwarnings(\"ignore\", category=UserWarning)\n",
    "\n",
    "QUESTIONS = [\n",
    "    \"Who is the coroner?\", \n",
    "    \"Who is the deceased?\", \n",
    "    \"What was the cause of death?\"\n",
    "]\n",
    "GEN_MODEL = \"gemma3\" \n",
    "verbose_answers = [\n",
    "    \"Sarah Helen Linton\",  # Example from basic query\n",
    "    \"Frank Edward Rodier\",\n",
    "    \"The cause of death was unascertained.\"\n",
    "]  \n",
    "\n",
    "CORRECT_ANSWERS = [\n",
    "    \"Sarah Helen Linton\",  # Coroner\n",
    "    \"Frank Edward Rodier\",  # Deceased\n",
    "    \"unascertained\"         # Cause of death\n",
    "]\n",
    "\n",
    "def calculate_bertscore_df(df):\n",
    "    \"\"\"\n",
    "    Computes BERTScore metrics for a DataFrame with 'CORRECT_ANSWER' and 'LLM_ANSWER' columns.\n",
    "    \n",
    "    Args:\n",
    "        df (pd.DataFrame): Input DataFrame.\n",
    "    \n",
    "    Returns:\n",
    "        pd.DataFrame: Augmented with BERT_PRECISION, BERT_RECALL, BERT_F1 columns.\n",
    "    \"\"\"\n",
    "    references = df['CORRECT_ANSWER'].tolist()\n",
    "    candidates = df['LLM_ANSWER'].tolist()\n",
    "    \n",
    "    precision, recall, f1 = score(candidates, references, lang=\"en\", verbose=True)\n",
    "    \n",
    "    df['BERT_PRECISION'] = precision.tolist()\n",
    "    df['BERT_RECALL'] = recall.tolist()\n",
    "    df['BERT_F1'] = f1.tolist()\n",
    "    \n",
    "    return df\n",
    "\n",
    "data = {\n",
    "    'FILENAME': ['Rodier-Finding'] * len(QUESTIONS),\n",
    "    'MODEL': [GEN_MODEL] * len(QUESTIONS),\n",
    "    'QUESTION': QUESTIONS,\n",
    "    'CORRECT_ANSWER': CORRECT_ANSWERS,\n",
    "    'LLM_ANSWER': verbose_answers  # Use verbose answers for evaluation\n",
    "}\n",
    "\n",
    "df = pd.DataFrame(data)\n",
    "scores_df = calculate_bertscore_df(df)\n",
    "\n",
    "# Display the results\n",
    "print(\"Evaluation Results:\")\n",
    "display(scores_df)  # Use display() for nicer Jupyter output\n",
    "\n",
    "# Optional: Save to CSV for reporting\n",
    "scores_df.to_csv('evaluation_results.csv', index=False)\n",
    "print(\"\\nResults saved to 'evaluation_results.csv'\")"
   ]
  },
  {
   "cell_type": "code",
   "execution_count": 11,
   "id": "80ea2d25-c283-49a2-ac18-11873dce2ad8",
   "metadata": {},
   "outputs": [
    {
     "name": "stdout",
     "output_type": "stream",
     "text": [
      "C:\\Users\\aasis\\AppData\\Local\\Programs\\Python\\Python313\\python.exe\n",
      "C:\\Users\\aasis\\AppData\\Local\\Microsoft\\WindowsApps\\python.exe\n"
     ]
    }
   ],
   "source": [
    "!where python"
   ]
  },
  {
   "cell_type": "code",
   "execution_count": null,
   "id": "a7ede7bf-86ae-47cf-87ac-f145bc609f4b",
   "metadata": {},
   "outputs": [],
   "source": []
  }
 ],
 "metadata": {
  "kernelspec": {
   "display_name": "Python (coroner_env)",
   "language": "python",
   "name": "coroner_env"
  },
  "language_info": {
   "codemirror_mode": {
    "name": "ipython",
    "version": 3
   },
   "file_extension": ".py",
   "mimetype": "text/x-python",
   "name": "python",
   "nbconvert_exporter": "python",
   "pygments_lexer": "ipython3",
   "version": "3.13.7"
  }
 },
 "nbformat": 4,
 "nbformat_minor": 5
}
